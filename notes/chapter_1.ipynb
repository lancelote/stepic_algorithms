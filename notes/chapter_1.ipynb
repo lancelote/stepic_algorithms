{
 "cells": [
  {
   "cell_type": "markdown",
   "metadata": {},
   "source": [
    "# Обзор"
   ]
  },
  {
   "cell_type": "markdown",
   "metadata": {},
   "source": [
    "## Задача 1\n",
    "\n",
    "В данной задаче требуется вычислить сумму двух входных целых чисел, лежащих в отрезке от нуля до десяти. Никаких подвохов, это очевидная задача, предназначенная для того, чтобы познакомить вас с проверяющей системой. На следующем степе приведены решения данной задачи на нескольких языках программирования (вы можете прямо сейчас перейти туда и скопировать решение оттуда). В этой задаче, как и во всех задачах на программирование, не нужно проверять, что входные данные удовлетворяют требованиям, заявленным в условии. Другими словами, во всех тестах, на которых будет проверяться ваша программа, на вход будут подаваться два целых числа от 0 до 10.\n",
    "\n",
    "### Sample Input:\n",
    "\n",
    "    6 3\n",
    "\n",
    "### Sample Output:\n",
    "    \n",
    "    9"
   ]
  },
  {
   "cell_type": "code",
   "execution_count": 5,
   "metadata": {},
   "outputs": [
    {
     "name": "stdout",
     "output_type": "stream",
     "text": [
      "9\n"
     ]
    }
   ],
   "source": [
    "a, b = input().split()\n",
    "print(int(a) + int(b))"
   ]
  }
 ],
 "metadata": {
  "kernelspec": {
   "display_name": "Python 3",
   "language": "python",
   "name": "python3"
  },
  "language_info": {
   "codemirror_mode": {
    "name": "ipython",
    "version": 3
   },
   "file_extension": ".py",
   "mimetype": "text/x-python",
   "name": "python",
   "nbconvert_exporter": "python",
   "pygments_lexer": "ipython3",
   "version": "3.6.4"
  }
 },
 "nbformat": 4,
 "nbformat_minor": 2
}
