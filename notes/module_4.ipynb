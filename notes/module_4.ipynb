{
 "cells": [
  {
   "cell_type": "markdown",
   "metadata": {
    "collapsed": true,
    "pycharm": {
     "name": "#%% md\n"
    }
   },
   "source": [
    "# Жадные алгоритмы: теория и задачи"
   ]
  },
  {
   "cell_type": "markdown",
   "source": [
    "## Введение"
   ],
   "metadata": {
    "collapsed": false,
    "pycharm": {
     "name": "#%% md\n"
    }
   }
  },
  {
   "cell_type": "markdown",
   "source": [
    "### Покрытие точек отрезками\n",
    "\n",
    "**Вход**: множество $n$ точек на прямой $x_1, \\dots, x_n \\in R$.\n",
    "\n",
    "**Выход** минимальное количество отрезков единичной длины, которыми можно\n",
    "покрыть все точки."
   ],
   "metadata": {
    "collapsed": false
   }
  },
  {
   "cell_type": "markdown",
   "source": [
    "### Надежный шаг\n",
    "\n",
    "Существует оптимальное покрытие, в котором самая левая точка покрыта левым\n",
    "концом первого отрезка.\n",
    "\n",
    "Поэтому можно сразу добавить в решение отрезок, левый конец которого совпадает\n",
    "с самой левой точкой."
   ],
   "metadata": {
    "collapsed": false
   }
  },
  {
   "cell_type": "markdown",
   "source": [
    "### Алгоритм\n",
    "\n",
    "```\n",
    "def PointCover(x1, ..., xn):\n",
    "    S = [x1, ..., xn]\n",
    "    while S is not empty:\n",
    "        xm = min(S)\n",
    "        add to solution [l, r] = [xm, xm + 1]\n",
    "        drop from S all covered points by [l, r]\n",
    "    return solution\n",
    "```\n",
    "\n",
    "Время работы $O(n^2)$."
   ],
   "metadata": {
    "collapsed": false,
    "pycharm": {
     "name": "#%% md\n"
    }
   }
  },
  {
   "cell_type": "markdown",
   "source": [
    "### Улучшенный алгоритм\n",
    "\n",
    "```\n",
    "def PointsCover(x1, ..., xn):\n",
    "    x1, ..., xn = sort(x1, ..., xn)\n",
    "    i = 1\n",
    "    while i <= n:\n",
    "        add to solution [l, r] = [xi, xi + 1]\n",
    "        i += 1\n",
    "        while i <= n and xi <= r:\n",
    "            i += 1\n",
    "    return solution\n",
    "```\n",
    "\n",
    "Время работы: $T(\\text{sort}) + O(n) = O(n\\log{n})$\n"
   ],
   "metadata": {
    "collapsed": false,
    "pycharm": {
     "name": "#%% md\n"
    }
   }
  }
 ],
 "metadata": {
  "kernelspec": {
   "display_name": "Python 3",
   "language": "python",
   "name": "python3"
  },
  "language_info": {
   "codemirror_mode": {
    "name": "ipython",
    "version": 2
   },
   "file_extension": ".py",
   "mimetype": "text/x-python",
   "name": "python",
   "nbconvert_exporter": "python",
   "pygments_lexer": "ipython2",
   "version": "2.7.6"
  },
  "pycharm": {
   "stem_cell": {
    "cell_type": "raw",
    "source": [],
    "metadata": {
     "collapsed": false
    }
   }
  }
 },
 "nbformat": 4,
 "nbformat_minor": 0
}