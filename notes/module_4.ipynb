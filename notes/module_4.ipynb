{
 "cells": [
  {
   "cell_type": "markdown",
   "metadata": {
    "collapsed": true,
    "pycharm": {
     "name": "#%% md\n"
    }
   },
   "source": [
    "# Жадные алгоритмы: теория и задачи"
   ]
  },
  {
   "cell_type": "markdown",
   "metadata": {
    "pycharm": {
     "name": "#%% md\n"
    }
   },
   "source": [
    "## Введение"
   ]
  },
  {
   "cell_type": "markdown",
   "metadata": {},
   "source": [
    "### Покрытие точек отрезками\n",
    "\n",
    "**Вход**: множество $n$ точек на прямой $x_1, \\dots, x_n \\in R$.\n",
    "\n",
    "**Выход** минимальное количество отрезков единичной длины, которыми можно\n",
    "покрыть все точки."
   ]
  },
  {
   "cell_type": "markdown",
   "metadata": {},
   "source": [
    "### Надежный шаг\n",
    "\n",
    "Существует оптимальное покрытие, в котором самая левая точка покрыта левым\n",
    "концом первого отрезка.\n",
    "\n",
    "Поэтому можно сразу добавить в решение отрезок, левый конец которого совпадает\n",
    "с самой левой точкой."
   ]
  },
  {
   "cell_type": "markdown",
   "metadata": {
    "pycharm": {
     "name": "#%% md\n"
    }
   },
   "source": [
    "### Алгоритм\n",
    "\n",
    "```\n",
    "def PointCover(x1, ..., xn):\n",
    "    S = [x1, ..., xn]\n",
    "    while S is not empty:\n",
    "        xm = min(S)\n",
    "        add to solution [l, r] = [xm, xm + 1]\n",
    "        drop from S all covered points by [l, r]\n",
    "    return solution\n",
    "```\n",
    "\n",
    "Время работы $O(n^2)$."
   ]
  },
  {
   "cell_type": "markdown",
   "metadata": {
    "pycharm": {
     "name": "#%% md\n"
    }
   },
   "source": [
    "### Улучшенный алгоритм\n",
    "\n",
    "```\n",
    "def PointsCover(x1, ..., xn):\n",
    "    x1, ..., xn = sort(x1, ..., xn)\n",
    "    i = 1\n",
    "    while i <= n:\n",
    "        add to solution [l, r] = [xi, xi + 1]\n",
    "        i += 1\n",
    "        while i <= n and xi <= r:\n",
    "            i += 1\n",
    "    return solution\n",
    "```\n",
    "\n",
    "Время работы: $T(\\text{sort}) + O(n) = O(n\\log{n})$"
   ]
  },
  {
   "cell_type": "markdown",
   "metadata": {
    "pycharm": {
     "name": "#%% md\n"
    }
   },
   "source": [
    "### Задача о выборе заявок\n",
    "\n",
    "**Вход**: множество $n$ отрезков на прямой.\n",
    "\n",
    "**Вывод**: максимальное количество попарно не пересекающихся отрезков.\n",
    "\n",
    "Выбирая в первую очередь более короткие отрезки, можно получить неоптимальное\n",
    "решение."
   ]
  },
  {
   "cell_type": "markdown",
   "metadata": {
    "pycharm": {
     "name": "#%% md\n"
    }
   },
   "source": [
    "### Надежный шаг\n",
    "\n",
    "Существует оптимальное решение, содержащее отрезок, правый конец которого\n",
    "минимален.\n",
    "\n",
    "Можно сразу добавить в решение отрезок, правый конец которого минимален."
   ]
  },
  {
   "cell_type": "markdown",
   "source": [
    "### Алгоритм\n",
    "\n",
    "```\n",
    "def ActSel(l1, r1, ..., ln, rn):\n",
    "    S = [(l1, r1), ..., (ln, rn)]\n",
    "    while S:\n",
    "        (lm, rm) = section from S with min right point\n",
    "        add (lm, rm) to solution\n",
    "        drop from S any sections crossing (lm, rm)\n",
    "    return solution\n",
    "```\n",
    "\n",
    "Время работы: $O(n^2)$."
   ],
   "metadata": {
    "collapsed": false
   }
  },
  {
   "cell_type": "markdown",
   "source": [
    "### Улучшенный алгоритм\n",
    "\n",
    "```\n",
    "def ActSel(l1, r1, ..., ln, rn):\n",
    "    sort all section by r\n",
    "    for all section in sorted list:\n",
    "        if current section doesn't cross latest added:\n",
    "            add it to solution\n",
    "    return solution\n",
    "```\n",
    "\n",
    "Время работы: $T(\\text{sort})+O(n)=O(n\\log{n})$"
   ],
   "metadata": {
    "collapsed": false
   }
  },
  {
   "cell_type": "markdown",
   "source": [
    "### Планирование вечеринки в компании\n",
    "\n",
    "**Вход**: дерево.\n",
    "\n",
    "**Выход**: независимое множество (множество не соединенных друг с другом\n",
    "вершин) максимального размера."
   ],
   "metadata": {
    "collapsed": false
   }
  },
  {
   "cell_type": "markdown",
   "source": [
    "### Надежный шаг\n",
    "\n",
    "Существует оптимальное решение, содержащее каждый лист дерева."
   ],
   "metadata": {
    "collapsed": false,
    "pycharm": {
     "name": "#%% md\n"
    }
   }
  },
  {
   "cell_type": "markdown",
   "source": [
    "### Алгоритм\n",
    "\n",
    "```\n",
    "def MaxIndependentSet(T):\n",
    "    while T:\n",
    "        get all leafs into the solution\n",
    "        drop them and their parents from T\n",
    "    return solution\n",
    "```\n",
    "\n",
    "Время работы: $O(|T|)$"
   ],
   "metadata": {
    "collapsed": false
   }
  },
  {
   "cell_type": "markdown",
   "source": [
    "### Задача о непрерывном рюкзаке\n",
    "\n",
    "**Вход**: веса $w_1$, ..., $w_n$ и стоимости $c_1$, ..., $c_n$ данных $n$\n",
    "предметов; вместимость рюкзака $W$.\n",
    "\n",
    "**Вывод**: максимальная стоимость частей предметов суммарного веса не более\n",
    "$W$."
   ],
   "metadata": {
    "collapsed": false
   }
  },
  {
   "cell_type": "markdown",
   "source": [
    "### Надежный шаг\n",
    "\n",
    "Существует оптимальное решение, содержащее максимально возможную часть\n",
    "предмета, стоимость которого за килограмм максимальна."
   ],
   "metadata": {
    "collapsed": false
   }
  },
  {
   "cell_type": "markdown",
   "source": [
    "### Алгоритм\n",
    "\n",
    "```\n",
    "def Knapsack(w1, c1, ..., wn, cn):\n",
    "    sort all items by c/w\n",
    "    for all sorted items:\n",
    "        take the max current item\n",
    "    return solution\n",
    "```\n",
    "\n",
    "Время работы: $T(\\text{sort}) + O(n) = O(n\\log{n})$"
   ],
   "metadata": {
    "collapsed": false,
    "pycharm": {
     "name": "#%% md\n"
    }
   }
  },
  {
   "cell_type": "markdown",
   "source": [
    "### Основные идеи\n",
    "\n",
    "**Надежный шаг** - существует оптимальное решение, согласованное с локальным\n",
    "жадным шагом.\n",
    "\n",
    "**Оптимальность подзадач** - задача, остающаяся после жадного шага, имеет тот\n",
    "же тип."
   ],
   "metadata": {
    "collapsed": false,
    "pycharm": {
     "name": "#%% md\n"
    }
   }
  },
  {
   "cell_type": "markdown",
   "source": [
    "## Коды Хаффмана"
   ],
   "metadata": {
    "collapsed": false,
    "pycharm": {
     "name": "#%% md\n"
    }
   }
  },
  {
   "cell_type": "markdown",
   "source": [
    "### Сжатие данных\n",
    "\n",
    "**Вход**: строка $s$.\n",
    "\n",
    "**Выход**: бинарный код символов строки $s$, обеспечивающий кратчайшее\n",
    "представление $s$."
   ],
   "metadata": {
    "collapsed": false
   }
  },
  {
   "cell_type": "markdown",
   "source": [
    "### Пример\n",
    "\n",
    "$s = \\text{abacabad}$\n",
    "\n",
    "Коды символов: $a = 00$, $b = 01$, $c = 10$, $d = 11$.\n",
    "\n",
    "Закодированная строка: $0001001000010011$, 16 бит."
   ],
   "metadata": {
    "collapsed": false
   }
  },
  {
   "cell_type": "markdown",
   "source": [
    "### Коды переменной длины\n",
    "\n",
    "Естественная идея: присвоить более короткие коды более частым символам.\n",
    "\n",
    "Например: $s = abacabad$.\n",
    "\n",
    "Коды символов: $a = 0$, $b = 10$, $c = 110$, $d = 111$.\n",
    "\n",
    "Закодированная строка: $01001100100111$, 14 бит.\n",
    "\n",
    "Код называется **беспрефиксным**, если никакой другой код символа не является\n",
    "префиксом другого кода символа.\n"
   ],
   "metadata": {
    "collapsed": false
   }
  }
 ],
 "metadata": {
  "kernelspec": {
   "display_name": "Python 3",
   "language": "python",
   "name": "python3"
  },
  "language_info": {
   "codemirror_mode": {
    "name": "ipython",
    "version": 3
   },
   "file_extension": ".py",
   "mimetype": "text/x-python",
   "name": "python",
   "nbconvert_exporter": "python",
   "pygments_lexer": "ipython3",
   "version": "3.7.4"
  },
  "pycharm": {
   "stem_cell": {
    "cell_type": "raw",
    "source": [],
    "metadata": {
     "collapsed": false
    }
   }
  }
 },
 "nbformat": 4,
 "nbformat_minor": 1
}