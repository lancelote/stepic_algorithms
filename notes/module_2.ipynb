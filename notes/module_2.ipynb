{
 "cells": [
  {
   "cell_type": "markdown",
   "metadata": {
    "collapsed": true,
    "pycharm": {
     "name": "#%% md\n"
    }
   },
   "source": [
    "# Введение: теория и задачи"
   ]
  },
  {
   "cell_type": "markdown",
   "source": [
    "## Числа Фибоначчи"
   ],
   "metadata": {
    "collapsed": false
   }
  },
  {
   "cell_type": "markdown",
   "source": [
    "### Определение\n",
    "\n",
    "$F_n=\\begin{cases}\n",
    "  0, & n=0,\\\\\n",
    "  1, & n=1,\\\\\n",
    "  F_{n-1}+F_{n-2}, & n>1.\n",
    "\\end{cases}$"
   ],
   "metadata": {
    "collapsed": false,
    "pycharm": {
     "name": "#%% md\n"
    }
   }
  },
  {
   "cell_type": "markdown",
   "source": [
    "### Скорость роста\n",
    "\n",
    "Лемма:\n",
    "\n",
    "$F_n\\ge2^{n/2}$ для $n\\ge6$.\n",
    "\n",
    "Доказательство:\n",
    "\n",
    "> Индукция по $n$.\n",
    ">\n",
    "> База: $F_6 = 8 = 2^{6/2}$, $F_7 = 13 > 2^{7/2} = 8 \\sqrt{2}$\n",
    ">\n",
    "> Переход: при $n\\ge8$\n",
    ">\n",
    "> $F_n = F_{n-1} + F_{n-2} \\ge 2^{(n-1)/2} + 2^{(n-2)/2} \\ge 2\\times2^{(n-2)/2} = 2^{n/2}$"
   ],
   "metadata": {
    "collapsed": false
   }
  },
  {
   "cell_type": "markdown",
   "source": [
    "### Формула\n",
    "\n",
    "$F_n=\\frac{1}{\\sqrt{5}}\\left(\\left(\\frac{1+\\sqrt{5}}{2}\\right)^n-\\left(\\frac{1-\\sqrt{5}}{2}\\right)^n\\right)$\n",
    "\n",
    "$F_n\\approx\\frac{1}{\\sqrt{5}}\\left(\\frac{1+\\sqrt{5}}{2}\\right)^n$\n",
    "\n",
    "$F_n\\approx\\frac{\\left(1,618...\\right)^n}{\\sqrt{5}}$"
   ],
   "metadata": {
    "collapsed": false,
    "pycharm": {
     "name": "#%% md\n"
    }
   }
  },
  {
   "cell_type": "markdown",
   "source": [
    "### Вычисление чисел Фибоначчи\n",
    "\n",
    "> Вычислить $F_n$\n",
    ">\n",
    "> **Вход:** целое число $n\\ge0$\n",
    ">\n",
    "> **Выход:** $F_n$\n",
    "\n",
    "Алгоритм:\n",
    "\n",
    "```\n",
    "FibRecursive(n):\n",
    "    if n <= 1:\n",
    "        return n\n",
    "    else:\n",
    "         return FibRecursive(n-1) + FibRecursive(n-2)\n",
    "```"
   ],
   "metadata": {
    "collapsed": false
   }
  },
  {
   "cell_type": "markdown",
   "source": [
    "### Время работы\n",
    "\n",
    "Через $T(n)$ обозначим число **строк кода**, выполняемых `FibRecursive(n)`. Тогда\n",
    "\n",
    "$T(n)=2$ для $n\\le1$\n",
    "\n",
    "и\n",
    "\n",
    "$T(n)=T(n-1)+T(n-2)+3$ для $n>1$\n",
    "\n",
    "следовательно\n",
    "\n",
    "$T(n)\\ge F_n$\n",
    "\n",
    "например\n",
    "\n",
    "$T(100)\\approx1,77\\times10^{21}$\n",
    "\n",
    "С частотой 1GHz займет несколько десятков тысяч лет."
   ],
   "metadata": {
    "collapsed": false
   }
  },
  {
   "cell_type": "markdown",
   "source": [
    "### Другой алгоритм\n",
    "\n",
    "```\n",
    "FibArray(n)\n",
    "    F[0..n] = []\n",
    "    F[0] = 0\n",
    "    F[1] = 1\n",
    "    for i from 2 to n:\n",
    "        F[i] = F[i-1] + F[i-2]\n",
    "    return F[n]\n",
    "```\n",
    "\n",
    "- Выполняет $2n+2$ строк кода\n",
    "- $T(100)=202$"
   ],
   "metadata": {
    "collapsed": false
   }
  },
  {
   "cell_type": "markdown",
   "source": [
    "## Наибольший общий делитель"
   ],
   "metadata": {
    "collapsed": false
   }
  },
  {
   "cell_type": "markdown",
   "source": [
    "### Определение\n",
    "\n",
    "**Наибольшим общим делителем (НОД)** неотрицательных чисел $a$ и $b$\n",
    "называется наибольшее целое $d$, которое делит и $a$, и $b$."
   ],
   "metadata": {
    "collapsed": false
   }
  },
  {
   "cell_type": "markdown",
   "source": [
    "### Вычисление НОД\n",
    "\n",
    "**Вход:** целые числа $a,b\\ge0$\n",
    "\n",
    "**Выход:** `НОД(a, b)`"
   ],
   "metadata": {
    "collapsed": false,
    "pycharm": {
     "name": "#%% md\n"
    }
   }
  },
  {
   "cell_type": "markdown",
   "source": [
    "### Наивный алгоритм\n",
    "\n",
    "```\n",
    "def NaiveGCD(a, b):\n",
    "    gcd = 1\n",
    "    for d in range(2, max(a, b)):\n",
    "        if d % a == 0 and d %% b == 0:\n",
    "            gcd = d\n",
    "    return d\n",
    "```\n",
    "\n",
    "- Время работы `max(a, b)`\n",
    "- Работает очень медленно уже на числах, состоящих из 10 знаков"
   ],
   "metadata": {
    "collapsed": false
   }
  },
  {
   "cell_type": "markdown",
   "source": [
    "### Использование остатка от деления\n",
    "\n",
    "Пусть $a\\ge b\\gt 0$ и $r$ - остаток от деления $a$ на $b$. Тогда\n",
    "\n",
    "$НОД(a, b) = НОД(r, b)$"
   ],
   "metadata": {
    "collapsed": false,
    "pycharm": {
     "name": "#%% md\n"
    }
   }
  },
  {
   "cell_type": "markdown",
   "source": [
    "### Алгоритм Евклида\n",
    "\n",
    "```\n",
    "fn EuclidGCD(a, b):\n",
    "    if a == 0:\n",
    "        return b\n",
    "    if b == 0:\n",
    "        return a\n",
    "    if a >= b:\n",
    "        return EuclidGCD(a % b, b)\n",
    "    if b >= a:\n",
    "        return EuclidGCD(a, b % a)\n",
    "```"
   ],
   "metadata": {
    "collapsed": false
   }
  },
  {
   "cell_type": "markdown",
   "source": [
    "### Скорость работы алгоритма Евклида\n",
    "\n",
    "Если $a \\ge b \\gt 0$, то $a\\mod{b} < a/2$\n",
    "\n",
    "- Каждый шаг уменьшает одно из чисел хотя бы вдвое\n",
    "- Количество шагов: не более $\\log_2{a}+\\log_2{b}$\n",
    "- Каждый шаг это деление\n",
    "- Вычисление НОД двух чисел из ста десятичных знаков производится за примерно\n",
    "  600 шагов\n",
    "- Гораздо быстрее наивного алгоритма"
   ],
   "metadata": {
    "collapsed": false
   }
  },
  {
   "cell_type": "markdown",
   "source": [
    "## О-символика"
   ],
   "metadata": {
    "collapsed": false
   }
  },
  {
   "cell_type": "markdown",
   "source": [
    "### Определение\n",
    "\n",
    "Пусть $f,g:N \\rightarrow R_{>0}$. Говорим, что $f$ растет не быстрее $g$ и\n",
    "пишем $f(n)=O(g(n))$ или $f \\preceq g$, если существует такая константа $c>0$,\n",
    "что $f(n)\\le c \\times g(n)$ для всех $n \\in R$.\n",
    "\n",
    "Преимущества:\n",
    "\n",
    "- Характеризует зависимость времени работы от размера входных данных\n",
    "- Более простые оценки\n",
    "- Упрощенный анализ\n",
    "- Не зависит от конкретной машины\n",
    "\n",
    "Недостатки:\n",
    "\n",
    "- О-символика скрывает константные множители, которые на практике могут быть\n",
    "  очень важными\n",
    "- О-символика говорит только про скорость роста"
   ],
   "metadata": {
    "collapsed": false,
    "pycharm": {
     "name": "#%% md\n"
    }
   }
  },
  {
   "cell_type": "markdown",
   "source": [
    "### Пример\n",
    "\n",
    "$3n^2 + 5n + 2 = O(n^2)$, поскольку при $n \\ge 1$ выполнено\n",
    "$3n^2 + 5n + 2 \\le 3n^2 + 5n^2 + 2n^2 = 10n^2$"
   ],
   "metadata": {
    "collapsed": false
   }
  },
  {
   "cell_type": "markdown",
   "source": [
    "### Связанные определения\n",
    "\n",
    "Пусть $f,g:N \\rightarrow R_{>0}$\n",
    "\n",
    "- $f(n)=\\Omega(g(n))$ и $f \\succeq g$, если существует положительная константа\n",
    "  $c$, для которой $f(n) \\ge c \\times g(n)$ - $f$ растет не медленнее $g$\n",
    "- $f(n) = \\Theta(g(n))$ и $f \\asymp g$, если $f = O(g)$ и $f = \\Omega (g)$ -\n",
    "  $f$ и $g$ имеют одинаковую скорость роста\n",
    "- $f(n) = o(g(n))$ и $f \\prec g$, если $f(n)/g(n) \\rightarrow 0$, при\n",
    "  $n \\rightarrow \\infty$ - $f$ растет медленнее $g$"
   ],
   "metadata": {
    "collapsed": false
   }
  },
  {
   "cell_type": "markdown",
   "source": [
    "### Общие правила\n",
    "\n",
    "- Постоянные множители можно опускать\n",
    "- Многочлен более высокой степени растет быстрее\n",
    "- Экспонента растет быстрее многочлена\n",
    "- Многочлен растет быстрее логарифма\n",
    "- Медленнее растущие слагаемые можно опускать\n"
   ],
   "metadata": {
    "collapsed": false
   }
  }
 ],
 "metadata": {
  "language_info": {
   "codemirror_mode": {
    "name": "ipython",
    "version": 2
   },
   "file_extension": ".py",
   "mimetype": "text/x-python",
   "name": "python",
   "nbconvert_exporter": "python",
   "pygments_lexer": "ipython2",
   "version": "2.7.6"
  },
  "kernelspec": {
   "name": "python3",
   "language": "python",
   "display_name": "Python 3"
  },
  "pycharm": {
   "stem_cell": {
    "cell_type": "raw",
    "source": [],
    "metadata": {
     "collapsed": false
    }
   }
  }
 },
 "nbformat": 4,
 "nbformat_minor": 0
}