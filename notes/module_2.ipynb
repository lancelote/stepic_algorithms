{
 "cells": [
  {
   "cell_type": "markdown",
   "metadata": {
    "collapsed": true,
    "pycharm": {
     "name": "#%% md\n"
    }
   },
   "source": [
    "# Введение: теория и задачи"
   ]
  },
  {
   "cell_type": "markdown",
   "source": [
    "## Числа Фибоначчи"
   ],
   "metadata": {
    "collapsed": false
   }
  },
  {
   "cell_type": "markdown",
   "source": [
    "### Определение\n",
    "\n",
    "$F_n=\\begin{cases}\n",
    "  0, & n=0,\\\\\n",
    "  1, & n=1,\\\\\n",
    "  F_{n-1}+F_{n-2}, & n>1.\n",
    "\\end{cases}$"
   ],
   "metadata": {
    "collapsed": false,
    "pycharm": {
     "name": "#%% md\n"
    }
   }
  },
  {
   "cell_type": "markdown",
   "source": [
    "### Скорость роста\n",
    "\n",
    "Лемма:\n",
    "\n",
    "$F_n\\ge2^{n/2}$ для $n\\ge6$.\n",
    "\n",
    "Доказательство:\n",
    "\n",
    "> Индукция по $n$.\n",
    ">\n",
    "> База: $F_6 = 8 = 2^{6/2}$, $F_7 = 13 > 2^{7/2} = 8 \\sqrt{2}$\n",
    ">\n",
    "> Переход: при $n\\ge8$\n",
    ">\n",
    "> $F_n = F_{n-1} + F_{n-2} \\ge 2^{(n-1)/2} + 2^{(n-2)/2} \\ge 2\\times2^{(n-2)/2} = 2^{n/2}$"
   ],
   "metadata": {
    "collapsed": false
   }
  },
  {
   "cell_type": "markdown",
   "source": [
    "### Формула\n",
    "\n",
    "$F_n=\\frac{1}{\\sqrt{5}}\\left(\\left(\\frac{1+\\sqrt{5}}{2}\\right)^n-\\left(\\frac{1-\\sqrt{5}}{2}\\right)^n\\right)$\n",
    "\n",
    "$F_n\\approx\\frac{1}{\\sqrt{5}}\\left(\\frac{1+\\sqrt{5}}{2}\\right)^n$\n",
    "\n",
    "$F_n\\approx\\frac{\\left(1,618...\\right)^n}{\\sqrt{5}}$"
   ],
   "metadata": {
    "collapsed": false,
    "pycharm": {
     "name": "#%% md\n"
    }
   }
  },
  {
   "cell_type": "markdown",
   "source": [
    "### Вычисление чисел Фибоначчи\n",
    "\n",
    "> Вычислить $F_n$\n",
    ">\n",
    "> **Вход:** целое число $n\\ge0$\n",
    ">\n",
    "> **Выход:** $F_n$\n",
    "\n",
    "Алгоритм:\n",
    "\n",
    "```\n",
    "FibRecursive(n):\n",
    "    if n <= 1:\n",
    "        return n\n",
    "    else:\n",
    "         return FibRecursive(n-1) + FibRecursive(n-2)\n",
    "```"
   ],
   "metadata": {
    "collapsed": false
   }
  }
 ],
 "metadata": {
  "language_info": {
   "codemirror_mode": {
    "name": "ipython",
    "version": 2
   },
   "file_extension": ".py",
   "mimetype": "text/x-python",
   "name": "python",
   "nbconvert_exporter": "python",
   "pygments_lexer": "ipython2",
   "version": "2.7.6"
  },
  "kernelspec": {
   "name": "python3",
   "language": "python",
   "display_name": "Python 3"
  },
  "pycharm": {
   "stem_cell": {
    "cell_type": "raw",
    "source": [],
    "metadata": {
     "collapsed": false
    }
   }
  }
 },
 "nbformat": 4,
 "nbformat_minor": 0
}